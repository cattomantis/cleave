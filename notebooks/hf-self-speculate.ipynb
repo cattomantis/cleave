{
 "cells": [
  {
   "cell_type": "markdown",
   "metadata": {},
   "source": [
    "## Quick Start"
   ]
  },
  {
   "cell_type": "code",
   "execution_count": 1,
   "metadata": {},
   "outputs": [
    {
     "name": "stderr",
     "output_type": "stream",
     "text": [
      "/Users/nasheedyasin/miniconda3/envs/expts/lib/python3.10/site-packages/tqdm/auto.py:21: TqdmWarning: IProgress not found. Please update jupyter and ipywidgets. See https://ipywidgets.readthedocs.io/en/stable/user_install.html\n",
      "  from .autonotebook import tqdm as notebook_tqdm\n"
     ]
    }
   ],
   "source": [
    "import torch\n",
    "from transformers import AutoModelForCausalLM, AutoTokenizer\n",
    "\n",
    "checkpoint = \"facebook/layerskip-llama3.2-1B\"\n",
    "model = AutoModelForCausalLM.from_pretrained(checkpoint, device_map=\"auto\", use_safetensors=True, torch_dtype=torch.bfloat16)\n",
    "tokenizer = AutoTokenizer.from_pretrained(checkpoint)"
   ]
  },
  {
   "cell_type": "code",
   "execution_count": 29,
   "metadata": {},
   "outputs": [
    {
     "name": "stdout",
     "output_type": "stream",
     "text": [
      "typing import List\n",
      "def bucket_sort(A: List): \n",
      "    if len(A) == 0:\n",
      "        return A\n",
      "    else:\n",
      "        bucket = [A[0]]\n",
      "        for i in range(1, len(A)):\n",
      "            bucket.append(A[i])\n",
      "        bucket.sort()\n",
      "        return bucket\n",
      "\n"
     ]
    }
   ],
   "source": [
    "from transformers import GenerationConfig\n",
    "prompt = \"typing import List\\ndef bucket_sort(A: List):\"\n",
    "\n",
    "inputs = tokenizer([prompt], return_tensors=\"pt\").to(model.device)\n",
    "pad_token_id = model.config.eos_token_id\n",
    "\n",
    "generation_config = GenerationConfig(\n",
    "    max_new_tokens=512, assistant_early_exit=8,\n",
    "    pad_token_id=pad_token_id\n",
    ")\n",
    "\n",
    "outputs = model.generate(**inputs, generation_config=generation_config)\n",
    "print(tokenizer.batch_decode(outputs, skip_special_tokens=True)[0])"
   ]
  }
 ],
 "metadata": {
  "kernelspec": {
   "display_name": "expts",
   "language": "python",
   "name": "python3"
  },
  "language_info": {
   "codemirror_mode": {
    "name": "ipython",
    "version": 3
   },
   "file_extension": ".py",
   "mimetype": "text/x-python",
   "name": "python",
   "nbconvert_exporter": "python",
   "pygments_lexer": "ipython3",
   "version": "3.10.13"
  }
 },
 "nbformat": 4,
 "nbformat_minor": 2
}
